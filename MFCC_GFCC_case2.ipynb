{
 "cells": [
  {
   "cell_type": "code",
   "execution_count": 1,
   "metadata": {
    "colab": {
     "base_uri": "https://localhost:8080/",
     "height": 129
    },
    "colab_type": "code",
    "id": "tYvuKU-prOvo",
    "outputId": "cedce318-a02c-4382-af62-2551c1958957"
   },
   "outputs": [
    {
     "name": "stdout",
     "output_type": "stream",
     "text": [
      "Go to this URL in a browser: https://accounts.google.com/o/oauth2/auth?client_id=947318989803-6bn6qk8qdgf4n4g3pfee6491hc0brc4i.apps.googleusercontent.com&redirect_uri=urn%3aietf%3awg%3aoauth%3a2.0%3aoob&response_type=code&scope=email%20https%3a%2f%2fwww.googleapis.com%2fauth%2fdocs.test%20https%3a%2f%2fwww.googleapis.com%2fauth%2fdrive%20https%3a%2f%2fwww.googleapis.com%2fauth%2fdrive.photos.readonly%20https%3a%2f%2fwww.googleapis.com%2fauth%2fpeopleapi.readonly\n",
      "\n",
      "Enter your authorization code:\n",
      "··········\n",
      "Mounted at /content/drive\n"
     ]
    }
   ],
   "source": [
    "from google.colab import drive\n",
    "drive.mount('/content/drive')"
   ]
  },
  {
   "cell_type": "code",
   "execution_count": 0,
   "metadata": {
    "colab": {},
    "colab_type": "code",
    "id": "zl2BqUTxrPOL"
   },
   "outputs": [],
   "source": [
    "!cp /content/drive/My\\ Drive/DuLieu/filter_feature/mg_a.npy .\n",
    "!cp /content/drive/My\\ Drive/DuLieu/filter_feature/mg_a_l.npy ."
   ]
  },
  {
   "cell_type": "code",
   "execution_count": 3,
   "metadata": {
    "colab": {
     "base_uri": "https://localhost:8080/",
     "height": 35
    },
    "colab_type": "code",
    "id": "HqtCplt2sYe4",
    "outputId": "c943b12f-9dec-4b64-d35b-50bf73ade297"
   },
   "outputs": [
    {
     "name": "stderr",
     "output_type": "stream",
     "text": [
      "Using TensorFlow backend.\n"
     ]
    }
   ],
   "source": [
    "from scipy.signal import butter, lfilter, filtfilt\n",
    "from sklearn.metrics import confusion_matrix\n",
    "from sklearn.model_selection import KFold\n",
    "from keras.models import Sequential\n",
    "from keras.layers import Dense, Dropout, Flatten\n",
    "from keras.layers import Conv2D, MaxPooling2D\n",
    "import keras\n",
    "from keras.models import Sequential\n",
    "from keras.layers import LSTM\n",
    "from keras.layers import Dense\n",
    "import keras\n",
    "from keras.layers import Dropout\n",
    "from keras.layers import Activation\n",
    "from shutil import copyfile\n",
    "import gc\n",
    "import os\n",
    "import numpy as np\n",
    "import scipy.io.wavfile as wav\n",
    "import scipy.signal as signal\n",
    "kf = KFold(n_splits=5, shuffle= True, random_state=28)\n",
    "from scipy import stats\n",
    "from sklearn.model_selection import train_test_split\n",
    "import librosa\n",
    "import IPython.display as ipd"
   ]
  },
  {
   "cell_type": "code",
   "execution_count": 0,
   "metadata": {
    "colab": {},
    "colab_type": "code",
    "id": "GbShrtHgselq"
   },
   "outputs": [],
   "source": [
    "def create_model():\n",
    "  model = Sequential()\n",
    "  model.add(LSTM(64, return_sequences=True))\n",
    "  model.add(LSTM(64))\n",
    "  model.add(Dense(1, activation = \"sigmoid\"))\n",
    "  model.compile(loss='binary_crossentropy', optimizer= keras.optimizers.Adam(lr = 0.0005), metrics=['accuracy'])\n",
    "  return model"
   ]
  },
  {
   "cell_type": "code",
   "execution_count": 0,
   "metadata": {
    "colab": {},
    "colab_type": "code",
    "id": "kktxlUDz1DOP"
   },
   "outputs": [],
   "source": [
    "class LogConfusionMatrix(keras.callbacks.Callback):\n",
    "  def __init__(self, names):\n",
    "    self.names = names\n",
    "  def on_train_begin(self, logs={}):\n",
    "    self.bestacc = 0.0\n",
    "    self.bestcf = None\n",
    "  def on_epoch_end(self, epoch, logs = {}):\n",
    "    if logs[\"val_acc\"] > self.bestacc:\n",
    "      self.bestacc = logs[\"val_acc\"] \n",
    "      y_pred = self.model.predict(self.validation_data[0])\n",
    "      y_pred = [1 * (x[0]>=0.5) for x in y_pred]\n",
    "      self.bestcf = confusion_matrix(self.validation_data[1], y_pred)\n",
    "  def on_train_end(self, logs = {}):\n",
    "    f = open(self.names, \"a\")\n",
    "    f.write(\"Best val_acc: \" + str(self.bestacc))\n",
    "    f.write(\"\\n\")\n",
    "    f.write(\"Best cf: \\n\" + str(self.bestcf))\n",
    "    f.write(\"\\n\")\n",
    "    f.close()\n"
   ]
  },
  {
   "cell_type": "code",
   "execution_count": 0,
   "metadata": {
    "colab": {},
    "colab_type": "code",
    "id": "hs3xjtEIsiqa"
   },
   "outputs": [],
   "source": [
    "def train_case_2(X_aug, y_aug, filename, epochs = 40):\n",
    "  i = 1\n",
    "  for train_index, test_index in kf.split(X_aug):\n",
    "    print(\"Cross Valid: \" + str(i))\n",
    "    f = open(filename, \"a\")\n",
    "    f.write(\"Cross Valid: \" + str(i))\n",
    "    f.write(\"\\n\")\n",
    "    f.close()\n",
    "    logcf = LogConfusionMatrix(filename)\n",
    "    es = keras.callbacks.EarlyStopping(monitor='val_acc', min_delta=0.008, patience=9, verbose=1, mode='auto')\n",
    "    reduce_lr = keras.callbacks.ReduceLROnPlateau(monitor = \"loss\",patience = 3, factor = 0.8, min_lr = 0.0001, verbose = 1)\n",
    "    model = create_model()\n",
    "    mean = np.mean(X_aug[train_index], axis = 0)\n",
    "    std = np.std(X_aug[train_index], axis = 0)\n",
    "    X_train = (X_aug[train_index] - mean) / std\n",
    "    y_train = y_aug[train_index]\n",
    "    X_test = (X_aug[test_index] - mean) / std\n",
    "    y_test = y_aug[test_index]\n",
    "    model.fit(X_train, y_train, epochs = epochs, batch_size = 64, verbose = 1, validation_data = (X_test, y_test), callbacks = [es, logcf, reduce_lr])\n",
    "    #print(confusion_matrix(y_test, y_pred))\n",
    "    gc.collect()\n",
    "    i += 1"
   ]
  },
  {
   "cell_type": "code",
   "execution_count": 0,
   "metadata": {
    "colab": {},
    "colab_type": "code",
    "id": "GEuCvgO_sk37"
   },
   "outputs": [],
   "source": [
    "X = np.load(\"mg_a.npy\")\n",
    "y = np.load(\"mg_a_l.npy\")"
   ]
  },
  {
   "cell_type": "code",
   "execution_count": 9,
   "metadata": {
    "colab": {
     "base_uri": "https://localhost:8080/",
     "height": 1000
    },
    "colab_type": "code",
    "id": "BymbmKCAsqYl",
    "outputId": "18ebb885-7d3c-48b9-c69a-bddc0a30cfe5"
   },
   "outputs": [
    {
     "name": "stdout",
     "output_type": "stream",
     "text": [
      "Cross Valid: 1\n",
      "WARNING:tensorflow:From /usr/local/lib/python3.6/dist-packages/keras/backend/tensorflow_backend.py:66: The name tf.get_default_graph is deprecated. Please use tf.compat.v1.get_default_graph instead.\n",
      "\n",
      "WARNING:tensorflow:From /usr/local/lib/python3.6/dist-packages/keras/optimizers.py:793: The name tf.train.Optimizer is deprecated. Please use tf.compat.v1.train.Optimizer instead.\n",
      "\n",
      "WARNING:tensorflow:From /usr/local/lib/python3.6/dist-packages/keras/backend/tensorflow_backend.py:541: The name tf.placeholder is deprecated. Please use tf.compat.v1.placeholder instead.\n",
      "\n",
      "WARNING:tensorflow:From /usr/local/lib/python3.6/dist-packages/keras/backend/tensorflow_backend.py:4432: The name tf.random_uniform is deprecated. Please use tf.random.uniform instead.\n",
      "\n",
      "WARNING:tensorflow:From /usr/local/lib/python3.6/dist-packages/keras/backend/tensorflow_backend.py:3657: The name tf.log is deprecated. Please use tf.math.log instead.\n",
      "\n",
      "WARNING:tensorflow:From /usr/local/lib/python3.6/dist-packages/tensorflow_core/python/ops/nn_impl.py:183: where (from tensorflow.python.ops.array_ops) is deprecated and will be removed in a future version.\n",
      "Instructions for updating:\n",
      "Use tf.where in 2.0, which has the same broadcast rule as np.where\n",
      "WARNING:tensorflow:From /usr/local/lib/python3.6/dist-packages/keras/backend/tensorflow_backend.py:1033: The name tf.assign_add is deprecated. Please use tf.compat.v1.assign_add instead.\n",
      "\n",
      "WARNING:tensorflow:From /usr/local/lib/python3.6/dist-packages/keras/backend/tensorflow_backend.py:1020: The name tf.assign is deprecated. Please use tf.compat.v1.assign instead.\n",
      "\n",
      "WARNING:tensorflow:From /usr/local/lib/python3.6/dist-packages/keras/backend/tensorflow_backend.py:3005: The name tf.Session is deprecated. Please use tf.compat.v1.Session instead.\n",
      "\n",
      "Train on 30968 samples, validate on 7742 samples\n",
      "Epoch 1/40\n",
      "WARNING:tensorflow:From /usr/local/lib/python3.6/dist-packages/keras/backend/tensorflow_backend.py:190: The name tf.get_default_session is deprecated. Please use tf.compat.v1.get_default_session instead.\n",
      "\n",
      "WARNING:tensorflow:From /usr/local/lib/python3.6/dist-packages/keras/backend/tensorflow_backend.py:197: The name tf.ConfigProto is deprecated. Please use tf.compat.v1.ConfigProto instead.\n",
      "\n",
      "WARNING:tensorflow:From /usr/local/lib/python3.6/dist-packages/keras/backend/tensorflow_backend.py:207: The name tf.global_variables is deprecated. Please use tf.compat.v1.global_variables instead.\n",
      "\n",
      "WARNING:tensorflow:From /usr/local/lib/python3.6/dist-packages/keras/backend/tensorflow_backend.py:216: The name tf.is_variable_initialized is deprecated. Please use tf.compat.v1.is_variable_initialized instead.\n",
      "\n",
      "WARNING:tensorflow:From /usr/local/lib/python3.6/dist-packages/keras/backend/tensorflow_backend.py:223: The name tf.variables_initializer is deprecated. Please use tf.compat.v1.variables_initializer instead.\n",
      "\n",
      "30968/30968 [==============================] - 106s 3ms/step - loss: 0.2745 - acc: 0.8883 - val_loss: 0.1350 - val_acc: 0.9507\n",
      "Epoch 2/40\n",
      "30968/30968 [==============================] - 104s 3ms/step - loss: 0.0912 - acc: 0.9700 - val_loss: 0.0674 - val_acc: 0.9777\n",
      "Epoch 3/40\n",
      "30968/30968 [==============================] - 109s 4ms/step - loss: 0.0474 - acc: 0.9856 - val_loss: 0.0528 - val_acc: 0.9861\n",
      "Epoch 4/40\n",
      "30968/30968 [==============================] - 104s 3ms/step - loss: 0.0386 - acc: 0.9884 - val_loss: 0.0313 - val_acc: 0.9907\n",
      "Epoch 5/40\n",
      "30968/30968 [==============================] - 103s 3ms/step - loss: 0.0254 - acc: 0.9928 - val_loss: 0.0252 - val_acc: 0.9925\n",
      "Epoch 6/40\n",
      "30968/30968 [==============================] - 103s 3ms/step - loss: 0.0145 - acc: 0.9957 - val_loss: 0.0164 - val_acc: 0.9951\n",
      "Epoch 7/40\n",
      "30968/30968 [==============================] - 102s 3ms/step - loss: 0.0080 - acc: 0.9976 - val_loss: 0.0127 - val_acc: 0.9961\n",
      "Epoch 8/40\n",
      "30968/30968 [==============================] - 103s 3ms/step - loss: 0.0072 - acc: 0.9978 - val_loss: 0.0199 - val_acc: 0.9951\n",
      "Epoch 9/40\n",
      "30968/30968 [==============================] - 103s 3ms/step - loss: 0.0099 - acc: 0.9970 - val_loss: 0.0087 - val_acc: 0.9970\n",
      "Epoch 10/40\n",
      "30968/30968 [==============================] - 103s 3ms/step - loss: 0.0095 - acc: 0.9973 - val_loss: 0.0615 - val_acc: 0.9848\n",
      "Epoch 11/40\n",
      "30968/30968 [==============================] - 102s 3ms/step - loss: 0.0102 - acc: 0.9973 - val_loss: 0.0079 - val_acc: 0.9974\n",
      "\n",
      "Epoch 00011: ReduceLROnPlateau reducing learning rate to 0.0004000000189989805.\n",
      "Epoch 12/40\n",
      "30968/30968 [==============================] - 103s 3ms/step - loss: 0.0029 - acc: 0.9995 - val_loss: 0.0150 - val_acc: 0.9956\n",
      "Epoch 13/40\n",
      "30968/30968 [==============================] - 103s 3ms/step - loss: 0.0036 - acc: 0.9988 - val_loss: 0.0246 - val_acc: 0.9933\n",
      "Epoch 14/40\n",
      "30968/30968 [==============================] - 103s 3ms/step - loss: 0.0033 - acc: 0.9992 - val_loss: 0.0062 - val_acc: 0.9974\n",
      "Epoch 15/40\n",
      "30968/30968 [==============================] - 105s 3ms/step - loss: 6.3678e-04 - acc: 0.9999 - val_loss: 0.0028 - val_acc: 0.9992\n",
      "Epoch 16/40\n",
      "30968/30968 [==============================] - 103s 3ms/step - loss: 8.7563e-05 - acc: 1.0000 - val_loss: 0.0039 - val_acc: 0.9987\n",
      "Epoch 00016: early stopping\n",
      "Cross Valid: 2\n",
      "Train on 30968 samples, validate on 7742 samples\n",
      "Epoch 1/40\n",
      "30968/30968 [==============================] - 105s 3ms/step - loss: 0.3015 - acc: 0.8773 - val_loss: 0.1836 - val_acc: 0.9330\n",
      "Epoch 2/40\n",
      "30968/30968 [==============================] - 104s 3ms/step - loss: 0.1197 - acc: 0.9602 - val_loss: 0.0960 - val_acc: 0.9702\n",
      "Epoch 3/40\n",
      "30968/30968 [==============================] - 104s 3ms/step - loss: 0.0646 - acc: 0.9788 - val_loss: 0.0450 - val_acc: 0.9841\n",
      "Epoch 4/40\n",
      "30968/30968 [==============================] - 103s 3ms/step - loss: 0.0338 - acc: 0.9898 - val_loss: 0.0768 - val_acc: 0.9770\n",
      "Epoch 5/40\n",
      "30968/30968 [==============================] - 106s 3ms/step - loss: 0.0327 - acc: 0.9897 - val_loss: 0.0415 - val_acc: 0.9876\n",
      "Epoch 6/40\n",
      "30968/30968 [==============================] - 104s 3ms/step - loss: 0.0205 - acc: 0.9942 - val_loss: 0.0233 - val_acc: 0.9924\n",
      "Epoch 7/40\n",
      "30968/30968 [==============================] - 104s 3ms/step - loss: 0.0116 - acc: 0.9965 - val_loss: 0.0343 - val_acc: 0.9881\n",
      "Epoch 8/40\n",
      "30968/30968 [==============================] - 104s 3ms/step - loss: 0.0108 - acc: 0.9966 - val_loss: 0.0214 - val_acc: 0.9941\n",
      "Epoch 9/40\n",
      "30968/30968 [==============================] - 102s 3ms/step - loss: 0.0118 - acc: 0.9966 - val_loss: 0.0194 - val_acc: 0.9941\n",
      "Epoch 10/40\n",
      "30968/30968 [==============================] - 102s 3ms/step - loss: 0.0055 - acc: 0.9983 - val_loss: 0.0114 - val_acc: 0.9961\n",
      "Epoch 11/40\n",
      "30968/30968 [==============================] - 103s 3ms/step - loss: 0.0051 - acc: 0.9985 - val_loss: 0.0068 - val_acc: 0.9974\n",
      "Epoch 12/40\n",
      "30968/30968 [==============================] - 105s 3ms/step - loss: 0.0089 - acc: 0.9974 - val_loss: 0.0188 - val_acc: 0.9946\n",
      "Epoch 13/40\n",
      "30968/30968 [==============================] - 103s 3ms/step - loss: 0.0110 - acc: 0.9968 - val_loss: 0.0102 - val_acc: 0.9972\n",
      "Epoch 14/40\n",
      "30968/30968 [==============================] - 103s 3ms/step - loss: 0.0044 - acc: 0.9989 - val_loss: 0.0058 - val_acc: 0.9982\n",
      "Epoch 15/40\n",
      "30968/30968 [==============================] - 103s 3ms/step - loss: 0.0013 - acc: 0.9997 - val_loss: 0.0074 - val_acc: 0.9979\n",
      "Epoch 00015: early stopping\n",
      "Cross Valid: 3\n",
      "Train on 30968 samples, validate on 7742 samples\n",
      "Epoch 1/40\n",
      "30968/30968 [==============================] - 106s 3ms/step - loss: 0.2774 - acc: 0.8848 - val_loss: 0.1264 - val_acc: 0.9560\n",
      "Epoch 2/40\n",
      "30968/30968 [==============================] - 103s 3ms/step - loss: 0.1003 - acc: 0.9668 - val_loss: 0.0630 - val_acc: 0.9789\n",
      "Epoch 3/40\n",
      "30968/30968 [==============================] - 103s 3ms/step - loss: 0.0491 - acc: 0.9848 - val_loss: 0.0305 - val_acc: 0.9907\n",
      "Epoch 4/40\n",
      "30968/30968 [==============================] - 103s 3ms/step - loss: 0.0290 - acc: 0.9912 - val_loss: 0.0287 - val_acc: 0.9913\n",
      "Epoch 5/40\n",
      "30968/30968 [==============================] - 104s 3ms/step - loss: 0.0181 - acc: 0.9950 - val_loss: 0.0302 - val_acc: 0.9907\n",
      "Epoch 6/40\n",
      "30968/30968 [==============================] - 104s 3ms/step - loss: 0.0219 - acc: 0.9935 - val_loss: 0.0349 - val_acc: 0.9903\n",
      "Epoch 7/40\n",
      "30968/30968 [==============================] - 105s 3ms/step - loss: 0.0171 - acc: 0.9954 - val_loss: 0.0200 - val_acc: 0.9933\n",
      "Epoch 8/40\n",
      "30968/30968 [==============================] - 104s 3ms/step - loss: 0.0103 - acc: 0.9972 - val_loss: 0.0092 - val_acc: 0.9964\n",
      "Epoch 9/40\n",
      "30968/30968 [==============================] - 103s 3ms/step - loss: 0.0117 - acc: 0.9966 - val_loss: 0.0113 - val_acc: 0.9966\n",
      "Epoch 10/40\n",
      "30968/30968 [==============================] - 104s 3ms/step - loss: 0.0044 - acc: 0.9986 - val_loss: 0.0083 - val_acc: 0.9977\n",
      "Epoch 11/40\n",
      "30968/30968 [==============================] - 104s 3ms/step - loss: 0.0103 - acc: 0.9966 - val_loss: 0.0114 - val_acc: 0.9963\n",
      "Epoch 12/40\n",
      "30968/30968 [==============================] - 104s 3ms/step - loss: 0.0079 - acc: 0.9974 - val_loss: 0.0103 - val_acc: 0.9960\n",
      "Epoch 00012: early stopping\n",
      "Cross Valid: 4\n",
      "Train on 30968 samples, validate on 7742 samples\n",
      "Epoch 1/40\n",
      "30968/30968 [==============================] - 107s 3ms/step - loss: 0.2695 - acc: 0.8889 - val_loss: 0.1303 - val_acc: 0.9571\n",
      "Epoch 2/40\n",
      "30968/30968 [==============================] - 104s 3ms/step - loss: 0.0921 - acc: 0.9694 - val_loss: 0.0656 - val_acc: 0.9797\n",
      "Epoch 3/40\n",
      "30968/30968 [==============================] - 107s 3ms/step - loss: 0.0477 - acc: 0.9842 - val_loss: 0.0495 - val_acc: 0.9841\n",
      "Epoch 4/40\n",
      "30968/30968 [==============================] - 105s 3ms/step - loss: 0.0335 - acc: 0.9895 - val_loss: 0.0521 - val_acc: 0.9848\n",
      "Epoch 5/40\n",
      "30968/30968 [==============================] - 104s 3ms/step - loss: 0.0217 - acc: 0.9936 - val_loss: 0.0318 - val_acc: 0.9915\n",
      "Epoch 6/40\n",
      "30968/30968 [==============================] - 105s 3ms/step - loss: 0.0209 - acc: 0.9932 - val_loss: 0.0292 - val_acc: 0.9919\n",
      "Epoch 7/40\n",
      "30968/30968 [==============================] - 104s 3ms/step - loss: 0.0112 - acc: 0.9964 - val_loss: 0.0141 - val_acc: 0.9952\n",
      "Epoch 8/40\n",
      "30968/30968 [==============================] - 103s 3ms/step - loss: 0.0150 - acc: 0.9954 - val_loss: 0.0159 - val_acc: 0.9946\n",
      "Epoch 9/40\n",
      "30968/30968 [==============================] - 105s 3ms/step - loss: 0.0080 - acc: 0.9977 - val_loss: 0.0099 - val_acc: 0.9975\n",
      "Epoch 10/40\n",
      "30968/30968 [==============================] - 105s 3ms/step - loss: 0.0075 - acc: 0.9974 - val_loss: 0.0343 - val_acc: 0.9913\n",
      "Epoch 11/40\n",
      "30968/30968 [==============================] - 104s 3ms/step - loss: 0.0071 - acc: 0.9981 - val_loss: 0.0062 - val_acc: 0.9979\n",
      "Epoch 12/40\n",
      "30968/30968 [==============================] - 103s 3ms/step - loss: 0.0030 - acc: 0.9993 - val_loss: 0.0115 - val_acc: 0.9961\n",
      "Epoch 13/40\n",
      "30968/30968 [==============================] - 105s 3ms/step - loss: 0.0069 - acc: 0.9979 - val_loss: 0.0057 - val_acc: 0.9981\n",
      "Epoch 14/40\n",
      "30968/30968 [==============================] - 103s 3ms/step - loss: 0.0080 - acc: 0.9976 - val_loss: 0.0072 - val_acc: 0.9977\n",
      "Epoch 00014: early stopping\n",
      "Cross Valid: 5\n",
      "Train on 30968 samples, validate on 7742 samples\n",
      "Epoch 1/40\n",
      "30968/30968 [==============================] - 108s 3ms/step - loss: 0.2784 - acc: 0.8858 - val_loss: 0.1349 - val_acc: 0.9531\n",
      "Epoch 2/40\n",
      "30968/30968 [==============================] - 103s 3ms/step - loss: 0.1041 - acc: 0.9659 - val_loss: 0.0660 - val_acc: 0.9799\n",
      "Epoch 3/40\n",
      "30968/30968 [==============================] - 103s 3ms/step - loss: 0.0582 - acc: 0.9827 - val_loss: 0.0506 - val_acc: 0.9846\n",
      "Epoch 4/40\n",
      "30968/30968 [==============================] - 103s 3ms/step - loss: 0.0353 - acc: 0.9895 - val_loss: 0.0608 - val_acc: 0.9796\n",
      "Epoch 5/40\n",
      "30968/30968 [==============================] - 105s 3ms/step - loss: 0.0255 - acc: 0.9922 - val_loss: 0.0216 - val_acc: 0.9947\n",
      "Epoch 6/40\n",
      "30968/30968 [==============================] - 111s 4ms/step - loss: 0.0156 - acc: 0.9956 - val_loss: 0.0261 - val_acc: 0.9924\n",
      "Epoch 7/40\n",
      "30968/30968 [==============================] - 106s 3ms/step - loss: 0.0145 - acc: 0.9954 - val_loss: 0.0127 - val_acc: 0.9956\n",
      "Epoch 8/40\n",
      "30968/30968 [==============================] - 106s 3ms/step - loss: 0.0030 - acc: 0.9991 - val_loss: 0.0066 - val_acc: 0.9981\n",
      "Epoch 9/40\n",
      "30968/30968 [==============================] - 105s 3ms/step - loss: 0.0068 - acc: 0.9980 - val_loss: 0.0154 - val_acc: 0.9954\n",
      "Epoch 10/40\n",
      "30968/30968 [==============================] - 104s 3ms/step - loss: 0.0086 - acc: 0.9976 - val_loss: 0.0137 - val_acc: 0.9966\n",
      "Epoch 11/40\n",
      "30968/30968 [==============================] - 105s 3ms/step - loss: 0.0131 - acc: 0.9960 - val_loss: 0.0065 - val_acc: 0.9982\n",
      "\n",
      "Epoch 00011: ReduceLROnPlateau reducing learning rate to 0.0004000000189989805.\n",
      "Epoch 12/40\n",
      "30968/30968 [==============================] - 104s 3ms/step - loss: 0.0033 - acc: 0.9991 - val_loss: 0.0085 - val_acc: 0.9977\n",
      "Epoch 13/40\n",
      "30968/30968 [==============================] - 104s 3ms/step - loss: 0.0054 - acc: 0.9988 - val_loss: 0.0073 - val_acc: 0.9973\n",
      "Epoch 14/40\n",
      "30968/30968 [==============================] - 104s 3ms/step - loss: 0.0042 - acc: 0.9987 - val_loss: 0.0053 - val_acc: 0.9983\n",
      "\n",
      "Epoch 00014: ReduceLROnPlateau reducing learning rate to 0.00032000001519918444.\n",
      "Epoch 15/40\n",
      "30968/30968 [==============================] - 105s 3ms/step - loss: 0.0036 - acc: 0.9989 - val_loss: 0.0038 - val_acc: 0.9990\n",
      "Epoch 16/40\n",
      "30968/30968 [==============================] - 104s 3ms/step - loss: 0.0011 - acc: 0.9998 - val_loss: 0.0023 - val_acc: 0.9991\n",
      "Epoch 17/40\n",
      "30968/30968 [==============================] - 104s 3ms/step - loss: 2.5576e-04 - acc: 1.0000 - val_loss: 0.0016 - val_acc: 0.9994\n",
      "Epoch 18/40\n",
      "30968/30968 [==============================] - 104s 3ms/step - loss: 6.9283e-05 - acc: 1.0000 - val_loss: 0.0021 - val_acc: 0.9990\n",
      "Epoch 00018: early stopping\n"
     ]
    }
   ],
   "source": [
    "train_case_2(X, y, \"mfcc_gfcc_case_2.txt\", 40)"
   ]
  },
  {
   "cell_type": "code",
   "execution_count": 0,
   "metadata": {
    "colab": {},
    "colab_type": "code",
    "id": "YP4J0iANsuyG"
   },
   "outputs": [],
   "source": []
  }
 ],
 "metadata": {
  "accelerator": "TPU",
  "colab": {
   "collapsed_sections": [],
   "name": "MFCC_GFCC_case2.ipynb",
   "provenance": []
  },
  "kernelspec": {
   "display_name": "Python 3",
   "language": "python",
   "name": "python3"
  },
  "language_info": {
   "codemirror_mode": {
    "name": "ipython",
    "version": 3
   },
   "file_extension": ".py",
   "mimetype": "text/x-python",
   "name": "python",
   "nbconvert_exporter": "python",
   "pygments_lexer": "ipython3",
   "version": "3.7.4"
  }
 },
 "nbformat": 4,
 "nbformat_minor": 1
}
